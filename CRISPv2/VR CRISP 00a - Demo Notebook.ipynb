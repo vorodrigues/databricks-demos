{
 "cells": [
  {
   "cell_type": "markdown",
   "metadata": {
    "application/vnd.databricks.v1+cell": {
     "cellMetadata": {},
     "inputWidgets": {},
     "nuid": "512ebc52-dabb-4d0c-ba1f-fe79379847bd",
     "showTitle": false,
     "title": ""
    }
   },
   "source": [
    "# Exemplos de consultas"
   ]
  },
  {
   "cell_type": "markdown",
   "metadata": {
    "application/vnd.databricks.v1+cell": {
     "cellMetadata": {},
     "inputWidgets": {},
     "nuid": "cf8b724e-bf58-4cab-b145-f99e1a4fea7d",
     "showTitle": false,
     "title": ""
    }
   },
   "source": [
    "## Linguagens"
   ]
  },
  {
   "cell_type": "markdown",
   "metadata": {
    "application/vnd.databricks.v1+cell": {
     "cellMetadata": {},
     "inputWidgets": {},
     "nuid": "3536429f-062e-4a11-bc1a-0fa9807c32e3",
     "showTitle": false,
     "title": ""
    }
   },
   "source": [
    "### SQL\n",
    "`Calcule a média móvel do faturamento a cada 3 meses`"
   ]
  },
  {
   "cell_type": "code",
   "execution_count": 0,
   "metadata": {
    "application/vnd.databricks.v1+cell": {
     "cellMetadata": {
      "byteLimit": 2048000,
      "implicitDf": true,
      "rowLimit": 10000
     },
     "inputWidgets": {},
     "nuid": "e9872b56-dce0-466b-809f-f17518769e54",
     "showTitle": false,
     "title": ""
    }
   },
   "outputs": [],
   "source": [
    "%sql\n",
    "SELECT month, AVG(sales_amount) OVER (ORDER BY month ROWS BETWEEN 2 PRECEDING AND CURRENT ROW) AS moving_average\n",
    "FROM vr_demo.crisp.forecast\n",
    "ORDER BY month"
   ]
  },
  {
   "cell_type": "markdown",
   "metadata": {
    "application/vnd.databricks.v1+cell": {
     "cellMetadata": {},
     "inputWidgets": {},
     "nuid": "241a96e4-6ed8-420b-b6d5-c763503e58c3",
     "showTitle": false,
     "title": ""
    }
   },
   "source": [
    "### R\n",
    "`Use o dataframe abaixo para fazer a previsão do sales_amount usando o ARIMA. Use a library forecast`"
   ]
  },
  {
   "cell_type": "code",
   "execution_count": 0,
   "metadata": {
    "application/vnd.databricks.v1+cell": {
     "cellMetadata": {
      "byteLimit": 2048000,
      "rowLimit": 10000
     },
     "inputWidgets": {},
     "nuid": "ca3b2c11-9c84-4c7f-b114-6219a741c4a4",
     "showTitle": false,
     "title": ""
    }
   },
   "outputs": [],
   "source": [
    "%r\n",
    "# Load the forecast library\n",
    "library(forecast)\n",
    "\n",
    "# Read the table into a Spark DataFrame\n",
    "df <- SparkR::tableToDF('vr_demo.crisp.forecast')\n",
    "\n",
    "# Convert the Spark DataFrame to a local R dataframe\n",
    "df_local <- SparkR::collect(df)\n",
    "\n",
    "# Convert the sales_amount column to a time series object\n",
    "sales_ts <- ts(df_local$sales_amount)\n",
    "\n",
    "# Fit an ARIMA model to the time series data\n",
    "arima_model <- auto.arima(sales_ts)\n",
    "\n",
    "# Make a forecast using the ARIMA model\n",
    "forecast <- forecast(arima_model)\n",
    "\n",
    "# Print the forecasted values\n",
    "print(forecast)"
   ]
  },
  {
   "cell_type": "markdown",
   "metadata": {
    "application/vnd.databricks.v1+cell": {
     "cellMetadata": {},
     "inputWidgets": {},
     "nuid": "3631de71-1a92-452d-a8d3-9dc83f716055",
     "showTitle": false,
     "title": ""
    }
   },
   "source": [
    "### Python"
   ]
  },
  {
   "cell_type": "code",
   "execution_count": 0,
   "metadata": {
    "application/vnd.databricks.v1+cell": {
     "cellMetadata": {
      "byteLimit": 2048000,
      "rowLimit": 10000
     },
     "inputWidgets": {},
     "nuid": "fd4e8d42-1a6e-4b5c-8552-673d54f091f1",
     "showTitle": false,
     "title": ""
    }
   },
   "outputs": [],
   "source": [
    "display(spark.table('vr_demo.crisp.forecast'))"
   ]
  },
  {
   "cell_type": "markdown",
   "metadata": {
    "application/vnd.databricks.v1+cell": {
     "cellMetadata": {},
     "inputWidgets": {},
     "nuid": "865a786c-2f47-4336-bf72-d9fa2f82569c",
     "showTitle": false,
     "title": ""
    }
   },
   "source": [
    "## Formatos de armazenamento"
   ]
  },
  {
   "cell_type": "markdown",
   "metadata": {
    "application/vnd.databricks.v1+cell": {
     "cellMetadata": {},
     "inputWidgets": {},
     "nuid": "398df16f-330a-4494-a28a-21e9c23520b3",
     "showTitle": false,
     "title": ""
    }
   },
   "source": [
    "### CSV"
   ]
  },
  {
   "cell_type": "code",
   "execution_count": 0,
   "metadata": {
    "application/vnd.databricks.v1+cell": {
     "cellMetadata": {
      "byteLimit": 2048000,
      "rowLimit": 10000
     },
     "inputWidgets": {},
     "nuid": "35f766e8-22bc-4fc8-b881-e9b7d8d1b6ac",
     "showTitle": false,
     "title": ""
    }
   },
   "outputs": [],
   "source": [
    "display(dbutils.fs.ls(\"s3://one-env/vr/crisp/forecast/csv\"))"
   ]
  },
  {
   "cell_type": "code",
   "execution_count": 0,
   "metadata": {
    "application/vnd.databricks.v1+cell": {
     "cellMetadata": {
      "byteLimit": 2048000,
      "rowLimit": 10000
     },
     "inputWidgets": {},
     "nuid": "be90f7d1-5228-4b4a-929d-3afcb70e57de",
     "showTitle": false,
     "title": ""
    }
   },
   "outputs": [],
   "source": [
    "display(dbutils.fs.head(\"s3://one-env/vr/crisp/forecast/csv/part-00000-tid-8981858333522022334-7ffb5121-a2b2-44bf-9e8d-536af44bb998-252-1-c000.csv\"))"
   ]
  },
  {
   "cell_type": "code",
   "execution_count": 0,
   "metadata": {
    "application/vnd.databricks.v1+cell": {
     "cellMetadata": {
      "byteLimit": 2048000,
      "implicitDf": true,
      "rowLimit": 10000
     },
     "inputWidgets": {},
     "nuid": "e7798d2f-c2de-4d14-8343-71c8938e19c9",
     "showTitle": false,
     "title": ""
    }
   },
   "outputs": [],
   "source": [
    "%sql describe extended vr_demo.crisp.forecast_csv"
   ]
  },
  {
   "cell_type": "code",
   "execution_count": 0,
   "metadata": {
    "application/vnd.databricks.v1+cell": {
     "cellMetadata": {
      "byteLimit": 2048000,
      "rowLimit": 10000
     },
     "inputWidgets": {},
     "nuid": "4c15a679-68f8-4ac6-a81e-822ef101d860",
     "showTitle": false,
     "title": ""
    }
   },
   "outputs": [],
   "source": [
    "display(spark.table('vr_demo.crisp.forecast_csv'))"
   ]
  },
  {
   "cell_type": "markdown",
   "metadata": {
    "application/vnd.databricks.v1+cell": {
     "cellMetadata": {},
     "inputWidgets": {},
     "nuid": "0ecfe9d2-faa9-4027-ba6a-b3ba9fd2b623",
     "showTitle": false,
     "title": ""
    }
   },
   "source": [
    "### JSON"
   ]
  },
  {
   "cell_type": "code",
   "execution_count": 0,
   "metadata": {
    "application/vnd.databricks.v1+cell": {
     "cellMetadata": {
      "byteLimit": 2048000,
      "rowLimit": 10000
     },
     "inputWidgets": {},
     "nuid": "3d77cf4a-b126-4e19-9c76-4f5e7ab3a8b0",
     "showTitle": false,
     "title": ""
    }
   },
   "outputs": [],
   "source": [
    "display(dbutils.fs.ls(\"s3://one-env/vr/crisp/forecast/json\"))"
   ]
  },
  {
   "cell_type": "code",
   "execution_count": 0,
   "metadata": {
    "application/vnd.databricks.v1+cell": {
     "cellMetadata": {
      "byteLimit": 2048000,
      "rowLimit": 10000
     },
     "inputWidgets": {},
     "nuid": "914e16a9-c363-4df1-b848-11c2567999ea",
     "showTitle": false,
     "title": ""
    }
   },
   "outputs": [],
   "source": [
    "display(dbutils.fs.head(\"s3://one-env/vr/crisp/forecast/json/part-00000-tid-4916521996223329909-04b97eaf-a990-491e-ac8e-d5bf14557ac5-253-1-c000.json\"))"
   ]
  },
  {
   "cell_type": "code",
   "execution_count": 0,
   "metadata": {
    "application/vnd.databricks.v1+cell": {
     "cellMetadata": {
      "byteLimit": 2048000,
      "implicitDf": true,
      "rowLimit": 10000
     },
     "inputWidgets": {},
     "nuid": "acd7a8fd-15fe-4971-8162-c2fd0dc32097",
     "showTitle": false,
     "title": ""
    }
   },
   "outputs": [],
   "source": [
    "%sql describe extended vr_demo.crisp.forecast_json"
   ]
  },
  {
   "cell_type": "code",
   "execution_count": 0,
   "metadata": {
    "application/vnd.databricks.v1+cell": {
     "cellMetadata": {
      "byteLimit": 2048000,
      "rowLimit": 10000
     },
     "inputWidgets": {},
     "nuid": "d647eb4c-dce5-4ffe-ad75-2ccc5264686a",
     "showTitle": false,
     "title": ""
    }
   },
   "outputs": [],
   "source": [
    "display(spark.table('vr_demo.crisp.forecast_json'))"
   ]
  },
  {
   "cell_type": "markdown",
   "metadata": {
    "application/vnd.databricks.v1+cell": {
     "cellMetadata": {},
     "inputWidgets": {},
     "nuid": "f8bd46d8-eeb8-4a6d-8c87-4492bbc619f4",
     "showTitle": false,
     "title": ""
    }
   },
   "source": [
    "### Parquet"
   ]
  },
  {
   "cell_type": "code",
   "execution_count": 0,
   "metadata": {
    "application/vnd.databricks.v1+cell": {
     "cellMetadata": {
      "byteLimit": 2048000,
      "rowLimit": 10000
     },
     "inputWidgets": {},
     "nuid": "38de313e-11ab-4416-a409-de501c9b9a2c",
     "showTitle": false,
     "title": ""
    }
   },
   "outputs": [],
   "source": [
    "display(dbutils.fs.ls(\"s3://one-env/vr/crisp/forecast/parquet\"))"
   ]
  },
  {
   "cell_type": "code",
   "execution_count": 0,
   "metadata": {
    "application/vnd.databricks.v1+cell": {
     "cellMetadata": {
      "byteLimit": 2048000,
      "rowLimit": 10000
     },
     "inputWidgets": {},
     "nuid": "45b10c6f-af19-4ace-818b-1a7ffa06b692",
     "showTitle": false,
     "title": ""
    }
   },
   "outputs": [],
   "source": [
    "display(dbutils.fs.head(\"s3://one-env/vr/crisp/forecast/parquet/part-00000-tid-1972469917384408746-5bfac72e-16b7-454e-bed6-0b75cd8adc29-250-1.c000.snappy.parquet\"))"
   ]
  },
  {
   "cell_type": "code",
   "execution_count": 0,
   "metadata": {
    "application/vnd.databricks.v1+cell": {
     "cellMetadata": {
      "byteLimit": 2048000,
      "implicitDf": true,
      "rowLimit": 10000
     },
     "inputWidgets": {},
     "nuid": "870f8afe-c9c2-4b82-b2fe-38cd5ac75da6",
     "showTitle": false,
     "title": ""
    }
   },
   "outputs": [],
   "source": [
    "%sql describe extended vr_demo.crisp.forecast_parquet"
   ]
  },
  {
   "cell_type": "code",
   "execution_count": 0,
   "metadata": {
    "application/vnd.databricks.v1+cell": {
     "cellMetadata": {
      "byteLimit": 2048000,
      "rowLimit": 10000
     },
     "inputWidgets": {},
     "nuid": "e8abb955-4f35-4893-8e8f-f78e71f32d24",
     "showTitle": false,
     "title": ""
    }
   },
   "outputs": [
    {
     "output_type": "display_data",
     "data": {
      "text/plain": [
       "Databricks data profile. Run in Databricks to view."
      ]
     },
     "metadata": {
      "application/vnd.databricks.v1.subcommand+json": {
       "baseErrorDetails": null,
       "bindings": {},
       "collapsed": false,
       "command": "%python\nif hasattr(dbutils, \"data\") and hasattr(dbutils.data, \"summarize\"):\n  # setup\n  __data_summary_display_orig = display\n  __data_summary_dfs = []\n  def __data_summary_display_new(df):\n    # add only when result is going to be table type\n    __data_summary_df_modules = [\"pandas.core.frame\", \"databricks.koalas.frame\", \"pyspark.sql.dataframe\", \"pyspark.pandas.frame\", \"pyspark.sql.connect.dataframe\"]\n    if (type(df).__module__ in __data_summary_df_modules and type(df).__name__ == 'DataFrame') or isinstance(df, list):\n      __data_summary_dfs.append(df)\n  display = __data_summary_display_new\n\n  def __data_summary_user_code_fn():\n    import base64\n    exec(base64.standard_b64decode(\"ZGlzcGxheShzcGFyay50YWJsZSgndnJfZGVtby5jcmlzcC5mb3JlY2FzdF9wYXJxdWV0Jykp\").decode())\n\n  try:\n    # run user code\n    __data_summary_user_code_fn()\n\n    # run on valid tableResultIndex\n    if len(__data_summary_dfs) > 0:\n      # run summarize\n      if type(__data_summary_dfs[0]).__module__ == \"databricks.koalas.frame\":\n        # koalas dataframe\n        dbutils.data.summarize(__data_summary_dfs[0].to_spark())\n      elif type(__data_summary_dfs[0]).__module__ == \"pandas.core.frame\":\n        # pandas dataframe\n        dbutils.data.summarize(spark.createDataFrame(__data_summary_dfs[0]))\n      else:\n        dbutils.data.summarize(__data_summary_dfs[0])\n    else:\n        displayHTML(\"dataframe no longer exists. If you're using dataframe.display(), use display(dataframe) instead.\")\n\n  finally:\n    display = __data_summary_display_orig\n    del __data_summary_display_new\n    del __data_summary_display_orig\n    del __data_summary_dfs\n    del __data_summary_user_code_fn\nelse:\n  print(\"This DBR version does not support data profiles.\")",
       "commandTitle": "Data Profile 1",
       "commandType": "auto",
       "commandVersion": 0,
       "commentThread": [],
       "commentsVisible": false,
       "contentSha256Hex": null,
       "customPlotOptions": {},
       "datasetPreviewNameToCmdIdMap": {},
       "diffDeletes": [],
       "diffInserts": [],
       "displayType": "table",
       "error": null,
       "errorDetails": null,
       "errorSummary": null,
       "errorTraceType": null,
       "finishTime": 1721312161393,
       "globalVars": {},
       "guid": "",
       "height": "auto",
       "hideCommandCode": false,
       "hideCommandResult": false,
       "iPythonMetadata": null,
       "inputWidgets": {},
       "isLockedInExamMode": false,
       "latestUser": "a user",
       "latestUserId": null,
       "listResultMetadata": [
        [
         "mimeBundle",
         null
        ]
       ],
       "metadata": {
        "byteLimit": 2048000,
        "rowLimit": 10000
       },
       "nuid": "1da63af1-a3f0-49c3-9475-1fe772a38f6f",
       "origId": 0,
       "parentHierarchy": [],
       "pivotAggregation": null,
       "pivotColumns": null,
       "position": 11.0,
       "resultDbfsErrorMessage": null,
       "resultDbfsStatus": "INLINED_IN_TREE",
       "results": null,
       "showCommandTitle": false,
       "startTime": 1721312159468,
       "state": "input",
       "streamStates": {},
       "subcommandOptions": null,
       "submitTime": 1721312159408,
       "subtype": "tableResultSubCmd.dataSummary",
       "tableResultIndex": 0,
       "tableResultSettingsMap": null,
       "useConsistentColors": false,
       "version": "CommandV1",
       "width": "auto",
       "workflows": null,
       "xColumns": null,
       "yColumns": null
      }
     },
     "output_type": "display_data"
    }
   ],
   "source": [
    "display(spark.table('vr_demo.crisp.forecast_parquet'))"
   ]
  },
  {
   "cell_type": "markdown",
   "metadata": {
    "application/vnd.databricks.v1+cell": {
     "cellMetadata": {},
     "inputWidgets": {},
     "nuid": "cb951ca6-2913-417b-8562-0e30f5ff360d",
     "showTitle": false,
     "title": ""
    }
   },
   "source": [
    "### PDF\n",
    "`Escreva um código para ler arquivos PDF em /Volumes/vr_demo/chatbot3/pdfs para um Spark Dataframe`"
   ]
  },
  {
   "cell_type": "code",
   "execution_count": 0,
   "metadata": {
    "application/vnd.databricks.v1+cell": {
     "cellMetadata": {
      "byteLimit": 2048000,
      "rowLimit": 10000
     },
     "inputWidgets": {},
     "nuid": "77b8c1a6-98fd-4852-9b86-cdc93a9e4152",
     "showTitle": false,
     "title": ""
    }
   },
   "outputs": [],
   "source": [
    "display(dbutils.fs.ls(\"/Volumes/vr_demo/chatbot3/pdfs\"))"
   ]
  },
  {
   "cell_type": "code",
   "execution_count": 0,
   "metadata": {
    "application/vnd.databricks.v1+cell": {
     "cellMetadata": {
      "byteLimit": 2048000,
      "rowLimit": 10000
     },
     "inputWidgets": {},
     "nuid": "a683fcf6-9067-4a7f-b67e-2abbfab71d1b",
     "showTitle": false,
     "title": ""
    }
   },
   "outputs": [],
   "source": [
    "import io\n",
    "import warnings\n",
    "from pypdf import PdfReader\n",
    "from pyspark.sql.functions import pandas_udf\n",
    "from typing import Iterator\n",
    "import pandas as pd\n",
    "\n",
    "def parse_bytes_pypdf(raw_doc_contents_bytes: bytes):\n",
    "    try:\n",
    "        pdf = io.BytesIO(raw_doc_contents_bytes)\n",
    "        reader = PdfReader(pdf)\n",
    "        parsed_content = [page_content.extract_text() for page_content in reader.pages]\n",
    "        return \"\\n\".join(parsed_content)\n",
    "    except Exception as e:\n",
    "        warnings.warn(f\"Exception {e} has been thrown during parsing\")\n",
    "        return None\n",
    "    \n",
    "@pandas_udf(\"string\")\n",
    "def parse_pdf(content: pd.Series) -> pd.Series:\n",
    "    return content.apply(parse_bytes_pypdf)\n",
    "\n",
    "df = (spark.read.format('binaryFile')\n",
    "    .load('/Volumes/vr_demo/chatbot3/pdfs')\n",
    "    .withColumn(\"parsed_content\", parse_pdf(\"content\"))\n",
    ")\n",
    "\n",
    "display(df)"
   ]
  },
  {
   "cell_type": "code",
   "execution_count": 0,
   "metadata": {
    "application/vnd.databricks.v1+cell": {
     "cellMetadata": {
      "byteLimit": 2048000,
      "rowLimit": 10000
     },
     "inputWidgets": {},
     "nuid": "163c4586-5c54-4cdd-b3f8-a2ac51b3c2c3",
     "showTitle": false,
     "title": ""
    }
   },
   "outputs": [],
   "source": [
    "import io\n",
    "import warnings\n",
    "import pandas as pd\n",
    "from pypdf import PdfReader\n",
    "from pyspark.sql.functions import pandas_udf\n",
    "from typing import Iterator\n",
    "\n",
    "def parse_bytes_pypdf(raw_doc_contents_bytes: bytes):\n",
    "    try:\n",
    "        pdf = io.BytesIO(raw_doc_contents_bytes)\n",
    "        reader = PdfReader(pdf)\n",
    "        parsed_content = [page_content.extract_text() for page_content in reader.pages]\n",
    "        return \"\\n\".join(parsed_content)\n",
    "    except Exception as e:\n",
    "        warnings.warn(f\"Exception {e} has been thrown during parsing\")\n",
    "        return None\n",
    "    \n",
    "@pandas_udf(\"string\")\n",
    "def parse_pdf(content: pd.Series) -> pd.Series:\n",
    "    return content.apply(parse_bytes_pypdf)\n",
    "\n",
    "df = (spark.read.format('BINARYFILE')\n",
    "    .load('/Volumes/main/dbdemos_rag_chatbot/volume_databricks_documentation/databricks-pdf')\n",
    "    .withColumn(\"parsed_content\", parse_pdf(\"content\"))\n",
    ")\n",
    "\n",
    "display(df)"
   ]
  }
 ],
 "metadata": {
  "application/vnd.databricks.v1+notebook": {
   "dashboards": [],
   "environmentMetadata": {
    "base_environment": "",
    "client": "1"
   },
   "language": "python",
   "notebookMetadata": {
    "mostRecentlyExecutedCommandWithImplicitDF": {
     "commandId": 1799440440671680,
     "dataframes": [
      "_sqldf"
     ]
    },
    "pythonIndentUnit": 2
   },
   "notebookName": "VR CRISP 00a - Demo Notebook",
   "widgets": {}
  }
 },
 "nbformat": 4,
 "nbformat_minor": 0
}
