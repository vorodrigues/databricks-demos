{
 "cells": [
  {
   "cell_type": "markdown",
   "metadata": {
    "application/vnd.databricks.v1+cell": {
     "cellMetadata": {},
     "inputWidgets": {},
     "nuid": "74cbeae5-0615-4dc2-8f72-92696b153b1d",
     "showTitle": false,
     "title": ""
    }
   },
   "source": [
    "#Preparing Enviroment"
   ]
  },
  {
   "cell_type": "markdown",
   "metadata": {
    "application/vnd.databricks.v1+cell": {
     "cellMetadata": {},
     "inputWidgets": {},
     "nuid": "3168cd4b-1f52-4d5c-afea-a260d8975f75",
     "showTitle": false,
     "title": ""
    }
   },
   "source": [
    "##Creating and Setting Variables"
   ]
  },
  {
   "cell_type": "code",
   "execution_count": 0,
   "metadata": {
    "application/vnd.databricks.v1+cell": {
     "cellMetadata": {},
     "inputWidgets": {},
     "nuid": "c423c853-9bee-4866-974c-ab273db1349a",
     "showTitle": false,
     "title": ""
    }
   },
   "outputs": [],
   "source": [
    "KafkaServer = dbutils.secrets.get('DatabricksEmbracon', 'KafkaServer')\n",
    "KafkaUsername = dbutils.secrets.get('DatabricksEmbracon', 'KafkaUsername')\n",
    "KafkaPassword = dbutils.secrets.get('DatabricksEmbracon', 'KafkaPassword')\n",
    "KafkaSchemaUsername = dbutils.secrets.get('DatabricksEmbracon', 'KafkaSchemaUsername')\n",
    "KafkaSchemaPassword = dbutils.secrets.get('DatabricksEmbracon', 'KafkaSchemaPassword')\n",
    "KafkaSchemaRegistryUrl = dbutils.secrets.get('DatabricksEmbracon', 'KafkaSchemaRegistryUrl')\n",
    "KafkaSchemaRegistryOptions = {\n",
    "    \"confluent.schema.registry.basic.auth.credentials.source\": \"USER_INFO\",\n",
    "    \"confluent.schema.registry.basic.auth.user.info\": f\"{KafkaSchemaUsername}:{KafkaSchemaPassword}\",\n",
    "}\n",
    "CheckpointLocation = 'abfss://prod@databricksembracon.dfs.core.windows.net/dados/checkpoints'"
   ]
  },
  {
   "cell_type": "markdown",
   "metadata": {
    "application/vnd.databricks.v1+cell": {
     "cellMetadata": {},
     "inputWidgets": {},
     "nuid": "90b53ec1-69ab-405f-878e-75e796890892",
     "showTitle": false,
     "title": ""
    }
   },
   "source": [
    "# Creating Ingestion Function"
   ]
  },
  {
   "cell_type": "code",
   "execution_count": 0,
   "metadata": {
    "application/vnd.databricks.v1+cell": {
     "cellMetadata": {
      "byteLimit": 2048000,
      "rowLimit": 10000
     },
     "inputWidgets": {},
     "nuid": "ed6761a5-79b1-422d-a838-23dfab62c84c",
     "showTitle": false,
     "title": ""
    }
   },
   "outputs": [],
   "source": [
    "# Create functions to merge turbine and weather data into their target Delta tables\n",
    "def merge_delta(incremental, t): \n",
    "  pks = t.pk.split(',')\n",
    "  on_clause = \" AND \".join([f'i.{pk} = t.{pk}' for pk in pks])\n",
    "  # Precisamos adicionar o campo de tempo de processamento que vem do tópico do Kafka\n",
    "  incremental.orderBy(\"__source_ts_ms\", ascending=False).dropDuplicates(pks).createOrReplaceTempView(\"incremental\")\n",
    "  \n",
    "  if spark.sql(f\"SHOW TABLES IN {t.catalog}.{t.database}_silver LIKE '{t.table}'\").count() > 0:\n",
    "    # MERGE records into the target table using the specified join key\n",
    "    incremental._jdf.sparkSession().sql(f\"\"\"\n",
    "      MERGE INTO {t.catalog}.{t.database}_silver.{t.table} t\n",
    "      USING incremental i\n",
    "      ON {on_clause}--i.ID_Advogado=t.ID_Advogado AND i.window = t.window AND i.deviceId = t.deviceid\n",
    "      --WHEN MATCHED AND i.op = 'd' THEN DELETE\n",
    "      WHEN MATCHED THEN UPDATE SET *\n",
    "      WHEN NOT MATCHED THEN INSERT *\n",
    "    \"\"\")\n",
    "  else:\n",
    "    # If the †arget table does not exist, create one\n",
    "    incremental.writeTo(f\"{t.catalog}.{t.database}_silver.{t.table}\").createOrReplace()"
   ]
  },
  {
   "cell_type": "code",
   "execution_count": 0,
   "metadata": {
    "application/vnd.databricks.v1+cell": {
     "cellMetadata": {
      "byteLimit": 2048000,
      "rowLimit": 10000
     },
     "inputWidgets": {},
     "nuid": "6540d7ce-d85d-405b-9773-f9657ba7329c",
     "showTitle": false,
     "title": ""
    }
   },
   "outputs": [],
   "source": [
    "from pyspark.sql.functions import *\n",
    "from pyspark.sql.avro.functions import from_avro\n",
    "\n",
    "def KafkaIngestion(t):\n",
    "\n",
    "    catalog = t.catalog\n",
    "    database = t.database\n",
    "    table = t.table\n",
    "    topic = t.topic\n",
    "    schema = t.schema\n",
    "\n",
    "    print(f\"Ingesting table {catalog}.{database}_bronze.{table}\")\n",
    "\n",
    "    # Bronze Layer\n",
    "\n",
    "    Raw = (\n",
    "        spark.readStream.format(\"kafka\")\n",
    "        .option(\"kafka.bootstrap.servers\", KafkaServer)\n",
    "        .option(\"kafka.sasl.mechanism\", \"PLAIN\")\n",
    "        .option(\"kafka.security.protocol\", \"SASL_SSL\")\n",
    "        .option(\"kafka.client.dns.lookup\", \"use_all_dns_ips\")\n",
    "        .option(\"kafka.basic.auth.credentials.source\", \"USER_INFO\")\n",
    "        .option(\"kafka.sasl.jaas.config\",f'kafkashaded.org.apache.kafka.common.security.plain.PlainLoginModule required username=\"{KafkaUsername}\" password=\"{KafkaPassword}\";')\n",
    "        .option(\"kafka.basic.auth.user.info\", f\"{KafkaSchemaUsername}:{KafkaSchemaPassword}\")\n",
    "        .option(\"kafka.schema.registry.url\", KafkaSchemaRegistryUrl)\n",
    "        .option(\"subscribe\", topic)\n",
    "        .option(\"startingOffsets\", \"earliest\")\n",
    "        .load()\n",
    "    )\n",
    "\n",
    "    Bronze = Raw.select(\n",
    "        from_avro(\n",
    "            data=col(\"value\"),\n",
    "            options=KafkaSchemaRegistryOptions,\n",
    "            subject=f\"{topic}-value\",\n",
    "            schemaRegistryAddress=KafkaSchemaRegistryUrl,\n",
    "        ).alias(\"value\")\n",
    "    ).selectExpr(\"value.*\")\n",
    "\n",
    "    (\n",
    "        Bronze.writeStream.outputMode(\"append\")\n",
    "        .option(\"checkpointLocation\", f\"{CheckpointLocation}/bronze/{table}\")\n",
    "        .trigger(availableNow=True)\n",
    "        .table(f\"{catalog}.{database}_bronze.{table}\")\n",
    "        .awaitTermination()\n",
    "    )\n",
    "\n",
    "    # Silver Layer\n",
    "\n",
    "    Silver = (\n",
    "        spark.readStream.table(f\"{catalog}.{database}_bronze.{table}\")\n",
    "    )\n",
    "\n",
    "    (\n",
    "        Silver.writeStream.outputMode(\"append\")\n",
    "        .option(\"checkpointLocation\", f\"{CheckpointLocation}/silver/{table}\")\n",
    "        .trigger(availableNow=True)\n",
    "        .foreachBatch(lambda i, b: merge_delta(i, t))\n",
    "        .start()\n",
    "        .awaitTermination()\n",
    "    )"
   ]
  },
  {
   "cell_type": "markdown",
   "metadata": {
    "application/vnd.databricks.v1+cell": {
     "cellMetadata": {},
     "inputWidgets": {},
     "nuid": "ca04f95d-397d-4ea7-b30f-321253bba340",
     "showTitle": false,
     "title": ""
    }
   },
   "source": [
    "# Running Ingestion"
   ]
  },
  {
   "cell_type": "code",
   "execution_count": 0,
   "metadata": {
    "application/vnd.databricks.v1+cell": {
     "cellMetadata": {
      "byteLimit": 2048000,
      "rowLimit": 10000
     },
     "inputWidgets": {},
     "nuid": "044e6bdd-309b-4c67-a416-7daefd68b22a",
     "showTitle": false,
     "title": ""
    }
   },
   "outputs": [],
   "source": [
    "tables = spark.sql('select * from embracon.admin.tables').collect()"
   ]
  },
  {
   "cell_type": "code",
   "execution_count": 0,
   "metadata": {
    "application/vnd.databricks.v1+cell": {
     "cellMetadata": {
      "byteLimit": 2048000,
      "rowLimit": 10000
     },
     "inputWidgets": {},
     "nuid": "d577f7f4-5984-494d-aa85-43107885101f",
     "showTitle": false,
     "title": ""
    }
   },
   "outputs": [],
   "source": [
    "for table in tables:\n",
    "  try:\n",
    "    KafkaIngestion(table)\n",
    "  except Exception as e:\n",
    "    print(f'Error: {e}')"
   ]
  }
 ],
 "metadata": {
  "application/vnd.databricks.v1+notebook": {
   "dashboards": [],
   "environmentMetadata": {
    "base_environment": "",
    "client": "1"
   },
   "language": "python",
   "notebookMetadata": {
    "mostRecentlyExecutedCommandWithImplicitDF": {
     "commandId": 898806145082609,
     "dataframes": [
      "_sqldf"
     ]
    },
    "pythonIndentUnit": 2,
    "widgetLayout": []
   },
   "notebookName": "MI 01b: Data Ingestion Confluent vars",
   "widgets": {}
  }
 },
 "nbformat": 4,
 "nbformat_minor": 0
}
