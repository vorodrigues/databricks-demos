{
 "cells": [
  {
   "cell_type": "markdown",
   "metadata": {
    "application/vnd.databricks.v1+cell": {
     "cellMetadata": {},
     "inputWidgets": {},
     "nuid": "3560bede-94b8-4b54-b31e-0f02bb4a44ed",
     "showTitle": false,
     "title": ""
    }
   },
   "source": [
    "#Newcon Import Tables"
   ]
  },
  {
   "cell_type": "markdown",
   "metadata": {
    "application/vnd.databricks.v1+cell": {
     "cellMetadata": {},
     "inputWidgets": {},
     "nuid": "14f94862-17a5-41a5-b44b-55c56c3494f9",
     "showTitle": false,
     "title": ""
    }
   },
   "source": [
    "##Creating Variables"
   ]
  },
  {
   "cell_type": "code",
   "execution_count": 0,
   "metadata": {
    "application/vnd.databricks.v1+cell": {
     "cellMetadata": {
      "byteLimit": 2048000,
      "rowLimit": 10000
     },
     "inputWidgets": {},
     "nuid": "dcf135ad-2179-4bff-ba18-e33cf53a5bb3",
     "showTitle": false,
     "title": ""
    }
   },
   "outputs": [],
   "source": [
    "# dbutils.widgets.text('Catalogo','')\n",
    "# dbutils.widgets.text('CatalogoClone','')\n",
    "# dbutils.widgets.text('Database','')\n",
    "# dbutils.widgets.text('TableName','')\n",
    "# dbutils.widgets.text('KafkaServer','')\n",
    "# dbutils.widgets.text('KafkaUsername','')\n",
    "# dbutils.widgets.text('KafkaPassword','')\n",
    "# dbutils.widgets.text('CheckpointLocation','')\n",
    "# dbutils.widgets.text('TableLocation','')\n",
    "# dbutils.widgets.text('TempLocation','')"
   ]
  },
  {
   "cell_type": "markdown",
   "metadata": {
    "application/vnd.databricks.v1+cell": {
     "cellMetadata": {},
     "inputWidgets": {},
     "nuid": "387d95a4-baef-4b9b-b9a2-13dd87b5b9a2",
     "showTitle": false,
     "title": ""
    }
   },
   "source": [
    "##Setting Variables"
   ]
  },
  {
   "cell_type": "code",
   "execution_count": 0,
   "metadata": {
    "application/vnd.databricks.v1+cell": {
     "cellMetadata": {
      "byteLimit": 2048000,
      "rowLimit": 10000
     },
     "inputWidgets": {},
     "nuid": "aeccb957-595b-4a3b-8572-5f6a3ce0a93d",
     "showTitle": false,
     "title": ""
    }
   },
   "outputs": [],
   "source": [
    "Catalogo = dbutils.widgets.get(\"Catalogo\")\n",
    "CatalogoClone = dbutils.widgets.get(\"CatalogoClone\")\n",
    "Database = dbutils.widgets.get(\"Database\")\n",
    "TableName = dbutils.widgets.get(\"TableName\")\n",
    "\n",
    "CheckpointLocation = dbutils.widgets.get(\"CheckpointLocation\")\n",
    "TableLocation = dbutils.widgets.get(\"TableLocation\")\n",
    "TempLocation = dbutils.widgets.get(\"TempLocation\")\n",
    "\n",
    "KafkaServer = dbutils.widgets.get(\"KafkaServer\")\n",
    "KafkaUsername = dbutils.widgets.get(\"KafkaUsername\")\n",
    "KafkaPassword = dbutils.widgets.get(\"KafkaPassword\")\n",
    "KafkaTopic = f\"src-cdc-sql-newcon-embracon-{TableName}-json\"\n",
    "\n",
    "TableName = TableName.lower()"
   ]
  },
  {
   "cell_type": "markdown",
   "metadata": {
    "application/vnd.databricks.v1+cell": {
     "cellMetadata": {},
     "inputWidgets": {},
     "nuid": "ad6f4051-bfc2-4602-8a6b-1b74db01b134",
     "showTitle": false,
     "title": ""
    }
   },
   "source": [
    "##Library Imports"
   ]
  },
  {
   "cell_type": "code",
   "execution_count": 0,
   "metadata": {
    "application/vnd.databricks.v1+cell": {
     "cellMetadata": {
      "byteLimit": 2048000,
      "rowLimit": 10000
     },
     "inputWidgets": {},
     "nuid": "93035985-e766-41d3-a50c-52fbb62b8425",
     "showTitle": false,
     "title": ""
    }
   },
   "outputs": [],
   "source": [
    "from pyspark.sql.functions import col, from_json\n",
    "from pyspark.sql.types import *"
   ]
  },
  {
   "cell_type": "markdown",
   "metadata": {
    "application/vnd.databricks.v1+cell": {
     "cellMetadata": {},
     "inputWidgets": {},
     "nuid": "90b53ec1-69ab-405f-878e-75e796890892",
     "showTitle": false,
     "title": ""
    }
   },
   "source": [
    "#Bronze Layer"
   ]
  },
  {
   "cell_type": "markdown",
   "metadata": {
    "application/vnd.databricks.v1+cell": {
     "cellMetadata": {},
     "inputWidgets": {},
     "nuid": "c5fe1b16-9dff-4c6e-92b1-6e3d416c2155",
     "showTitle": false,
     "title": ""
    }
   },
   "source": [
    "##Create Ingestion Fuction"
   ]
  },
  {
   "cell_type": "code",
   "execution_count": 0,
   "metadata": {
    "application/vnd.databricks.v1+cell": {
     "cellMetadata": {
      "byteLimit": 2048000,
      "rowLimit": 10000
     },
     "inputWidgets": {},
     "nuid": "3a599092-10bd-41f3-8428-5e516cd59b16",
     "showTitle": false,
     "title": ""
    }
   },
   "outputs": [],
   "source": [
    "def KafkaIngestion(TableName, Schema):\n",
    "    Raw = (\n",
    "        spark.readStream.format(\"kafka\")\n",
    "        .option(\"kafka.bootstrap.servers\", KafkaServer)\n",
    "        .option(\"kafka.sasl.mechanism\", \"PLAIN\")\n",
    "        .option(\"kafka.security.protocol\", \"SASL_SSL\")\n",
    "        .option(\"kafka.client.dns.lookup\", \"use_all_dns_ips\")\n",
    "        .option(\"kafka.basic.auth.credentials.source\", \"USER_INFO\")\n",
    "        .option(\n",
    "            \"kafka.sasl.jaas.config\",\n",
    "            f'kafkashaded.org.apache.kafka.common.security.plain.PlainLoginModule required username=\"{KafkaUsername}\" password=\"{KafkaPassword}\";',\n",
    "        )\n",
    "        .option(\"subscribe\", KafkaTopic)\n",
    "        .option(\"startingOffsets\", \"earliest\")\n",
    "        .load()\n",
    "    )\n",
    "\n",
    "    Bronze = Raw.select(\n",
    "        col(\"key\").cast(\"string\").alias(\"eventId\"),\n",
    "        from_json(col(\"value\").cast(\"string\"), Schema).alias(\"json\"),\n",
    "    ).select(\"json.after.*\", \"json.op\", \"json.ts_ms\")\n",
    "\n",
    "    Bronze.writeStream.outputMode(\"append\").option(\n",
    "        \"checkpointLocation\", f\"{CheckpointLocation}/bronze/{TableName}\"\n",
    "    ).trigger(availableNow=True).table(f\"{Catalogo}.{Database}.{TableName}\")\n",
    "\n",
    "    spark.sql(\n",
    "        f\"\"\"CREATE TABLE {CatalogoClone}.{Database}.{TableName} SHALLOW CLONE {Catalogo}.{Database}.{TableName}\"\"\"\n",
    "    )"
   ]
  },
  {
   "cell_type": "markdown",
   "metadata": {
    "application/vnd.databricks.v1+cell": {
     "cellMetadata": {},
     "inputWidgets": {},
     "nuid": "024242fd-9c92-4ec5-a8cc-57fa18121545",
     "showTitle": false,
     "title": ""
    }
   },
   "source": [
    "##Call Ingestion Function"
   ]
  },
  {
   "cell_type": "code",
   "execution_count": 0,
   "metadata": {
    "application/vnd.databricks.v1+cell": {
     "cellMetadata": {
      "byteLimit": 2048000,
      "rowLimit": 10000
     },
     "inputWidgets": {},
     "nuid": "0cb4243e-5bc8-4316-8040-ddcae05e53e9",
     "showTitle": false,
     "title": ""
    }
   },
   "outputs": [],
   "source": [
    "KafkaIngestion(TableName,\n",
    "               StructType([StructField('after', StructType([StructField('CD_Base_Origem', StringType(), True), StructField('CD_Cota', LongType(), True), StructField('CD_Cota_Origem', LongType(), True), StructField('CD_Grupo', StringType(), True), StructField('CD_Grupo_Origem', LongType(), True), StructField('ID_Cota', LongType(), True), StructField('Versao', LongType(), True), StructField('Versao_Origem', LongType(), True)]), True), StructField('before', StringType(), True), StructField('op', StringType(), True), StructField('source', StructType([StructField('change_lsn', StringType(), True), StructField('commit_lsn', StringType(), True), StructField('connector', StringType(), True), StructField('db', StringType(), True), StructField('event_serial_no', StringType(), True), StructField('name', StringType(), True), StructField('schema', StringType(), True), StructField('sequence', StringType(), True), StructField('snapshot', StringType(), True), StructField('table', StringType(), True), StructField('ts_ms', LongType(), True), StructField('version', StringType(), True)]), True), StructField('transaction', StringType(), True), StructField('ts_ms', LongType(), True)]))"
   ]
  },
  {
   "cell_type": "markdown",
   "metadata": {
    "application/vnd.databricks.v1+cell": {
     "cellMetadata": {},
     "inputWidgets": {},
     "nuid": "67cce1c9-3bf1-4451-982b-a19bcfd0406b",
     "showTitle": false,
     "title": ""
    }
   },
   "source": [
    "##Data Ingestion"
   ]
  },
  {
   "cell_type": "code",
   "execution_count": 0,
   "metadata": {
    "application/vnd.databricks.v1+cell": {
     "cellMetadata": {
      "byteLimit": 2048000,
      "rowLimit": 10000
     },
     "inputWidgets": {},
     "nuid": "1947d019-41a9-43ae-b710-e1e60c7ec04e",
     "showTitle": false,
     "title": ""
    }
   },
   "outputs": [],
   "source": [
    "# from pyspark.sql.functions import col, from_json\n",
    "\n",
    "# Raw = (\n",
    "#     spark.readStream.format(\"kafka\")\n",
    "#     .option(\"kafka.bootstrap.servers\", KafkaServer)\n",
    "#     .option(\"kafka.sasl.mechanism\", \"PLAIN\")\n",
    "#     .option(\"kafka.security.protocol\", \"SASL_SSL\")\n",
    "#     .option(\"kafka.client.dns.lookup\", \"use_all_dns_ips\")\n",
    "#     .option(\"kafka.basic.auth.credentials.source\", \"USER_INFO\")\n",
    "#     .option(\n",
    "#         \"kafka.sasl.jaas.config\",\n",
    "#         f'kafkashaded.org.apache.kafka.common.security.plain.PlainLoginModule required username=\"{KafkaUsername}\" password=\"{KafkaPassword}\";',\n",
    "#     )\n",
    "#     .option(\"subscribe\", KafkaTopic)\n",
    "#     .option(\"startingOffsets\", \"earliest\")\n",
    "#     .load()\n",
    "# )"
   ]
  },
  {
   "cell_type": "code",
   "execution_count": 0,
   "metadata": {
    "application/vnd.databricks.v1+cell": {
     "cellMetadata": {
      "byteLimit": 2048000,
      "rowLimit": 10000
     },
     "inputWidgets": {},
     "nuid": "00d5f4ae-18f0-4ef1-9c61-b00b8e99324b",
     "showTitle": false,
     "title": ""
    }
   },
   "outputs": [],
   "source": [
    "# dbutils.fs.mkdirs('/dados')"
   ]
  },
  {
   "cell_type": "code",
   "execution_count": 0,
   "metadata": {
    "application/vnd.databricks.v1+cell": {
     "cellMetadata": {
      "byteLimit": 2048000,
      "rowLimit": 10000
     },
     "inputWidgets": {},
     "nuid": "e5c03967-ad81-425b-927e-4c755f52240f",
     "showTitle": false,
     "title": ""
    }
   },
   "outputs": [],
   "source": [
    "# dbutils.fs.put(\"/dados/conco060.json\", '{\"before\":null,\"after\":{\"ID_Advogado\":1,\"CD_Advogado\":\"000001\",\"NM_Fantasia\":\"J.F. Silva Adv. Associados\",\"ID_Pessoa\":1311761,\"ID_Endereco\":4979719,\"ID_Telefone\":2648599,\"ID_Fax\":null,\"ID_E_Mail\":null},\"source\":{\"version\":\"2.4.2.Final\",\"connector\":\"sqlserver\",\"name\":\"src-cdc-sql-newcon-embracon\",\"ts_ms\":1714447429448,\"snapshot\":\"first_in_data_collection\",\"db\":\"Newcon_Embracon\",\"sequence\":null,\"schema\":\"dbo\",\"table\":\"CONCO060\",\"change_lsn\":null,\"commit_lsn\":\"000e5d5e:0003d608:0004\",\"event_serial_no\":null},\"op\":\"r\",\"ts_ms\":1714447429436,\"transaction\":null}', True)"
   ]
  },
  {
   "cell_type": "code",
   "execution_count": 0,
   "metadata": {
    "application/vnd.databricks.v1+cell": {
     "cellMetadata": {
      "byteLimit": 2048000,
      "rowLimit": 10000
     },
     "inputWidgets": {},
     "nuid": "4c028314-48a8-4e22-a5a4-81b89d9b9c8f",
     "showTitle": false,
     "title": ""
    }
   },
   "outputs": [],
   "source": [
    "# Schema = spark.read.json(f\"/dados/conco060.json\").schema"
   ]
  },
  {
   "cell_type": "code",
   "execution_count": 0,
   "metadata": {
    "application/vnd.databricks.v1+cell": {
     "cellMetadata": {
      "byteLimit": 2048000,
      "rowLimit": 10000
     },
     "inputWidgets": {},
     "nuid": "1ece7bfc-14f8-4222-8fff-3e20c938844e",
     "showTitle": false,
     "title": ""
    }
   },
   "outputs": [],
   "source": [
    "# Bronze = Raw.select(\n",
    "#     col(\"key\").cast(\"string\").alias(\"eventId\"),\n",
    "#     from_json(col(\"value\").cast(\"string\"), Schema).alias(\"json\"),\n",
    "# ).select(\"json.after.*\", \"json.op\", \"json.ts_ms\")\n",
    "\n",
    "# # display(bronzedf)"
   ]
  },
  {
   "cell_type": "code",
   "execution_count": 0,
   "metadata": {
    "application/vnd.databricks.v1+cell": {
     "cellMetadata": {
      "byteLimit": 2048000,
      "rowLimit": 10000
     },
     "inputWidgets": {},
     "nuid": "193a9da5-8a2b-448b-9f32-561457038d4e",
     "showTitle": false,
     "title": ""
    }
   },
   "outputs": [],
   "source": [
    "# Bronze.writeStream.outputMode(\"append\").option(\n",
    "#     \"checkpointLocation\", f\"{CheckpointLocation}/bronze/{TableName}\"\n",
    "# ).trigger(availableNow=True).table(f\"{Database}.{TableName}\")"
   ]
  },
  {
   "cell_type": "code",
   "execution_count": 0,
   "metadata": {
    "application/vnd.databricks.v1+cell": {
     "cellMetadata": {
      "byteLimit": 2048000,
      "rowLimit": 10000
     },
     "inputWidgets": {},
     "nuid": "7d02f7c6-ff8f-4c06-b36b-ed773f2d48b6",
     "showTitle": false,
     "title": ""
    }
   },
   "outputs": [],
   "source": [
    "# spark.sql(f\"\"\"CREATE TABLE {DatabaseClone}.{TableName} SHALLOW CLONE {Database}.{TableName}\"\"\")"
   ]
  },
  {
   "cell_type": "code",
   "execution_count": 0,
   "metadata": {
    "application/vnd.databricks.v1+cell": {
     "cellMetadata": {
      "byteLimit": 2048000,
      "implicitDf": true,
      "rowLimit": 10000
     },
     "inputWidgets": {},
     "nuid": "c384d3db-ff30-4a06-82a2-cf0ce1890148",
     "showTitle": false,
     "title": ""
    }
   },
   "outputs": [],
   "source": [
    "# %sql\n",
    "# drop table embracon_des.newcon_bronze.conco060"
   ]
  },
  {
   "cell_type": "code",
   "execution_count": 0,
   "metadata": {
    "application/vnd.databricks.v1+cell": {
     "cellMetadata": {
      "byteLimit": 2048000,
      "implicitDf": true,
      "rowLimit": 10000
     },
     "inputWidgets": {},
     "nuid": "1bfc5696-faa6-4252-9705-0bf038cc27a3",
     "showTitle": false,
     "title": ""
    }
   },
   "outputs": [],
   "source": [
    "# %sql\n",
    "# CREATE TABLE embracon_des.newcon_bronze.conco060 SHALLOW CLONE embracon.newcon_bronze.conco060"
   ]
  },
  {
   "cell_type": "markdown",
   "metadata": {
    "application/vnd.databricks.v1+cell": {
     "cellMetadata": {},
     "inputWidgets": {},
     "nuid": "f257131d-a51b-457c-982d-183c1a1d806f",
     "showTitle": false,
     "title": ""
    }
   },
   "source": [
    "#Silver Layer"
   ]
  },
  {
   "cell_type": "code",
   "execution_count": 0,
   "metadata": {
    "application/vnd.databricks.v1+cell": {
     "cellMetadata": {
      "byteLimit": 2048000,
      "rowLimit": 10000
     },
     "inputWidgets": {},
     "nuid": "b31403c6-7ce2-4e49-b1a1-3e2f2720fb5e",
     "showTitle": true,
     "title": "Stream events from bronze table"
    }
   },
   "outputs": [],
   "source": [
    "# silverDF = spark.readStream.format(\"delta\") \\\n",
    "#   .table(\"events_bronze\") \\\n",
    "#   .select(\"eventId\", \"json.*\")\n",
    "\n",
    "# display(silverDF)"
   ]
  },
  {
   "cell_type": "code",
   "execution_count": 0,
   "metadata": {
    "application/vnd.databricks.v1+cell": {
     "cellMetadata": {
      "byteLimit": 2048000,
      "rowLimit": 10000
     },
     "inputWidgets": {},
     "nuid": "cc15f925-e799-49d0-ae29-1ecacf4a3826",
     "showTitle": true,
     "title": "Write events to silver table"
    }
   },
   "outputs": [],
   "source": [
    "# silverDF.writeStream.format(\"delta\") \\\n",
    "#   .outputMode(\"append\") \\\n",
    "#   .option(\"checkpointLocation\", f\"{project_dir}/checkpoints/silver\") \\\n",
    "#   .table(\"events_silver\")"
   ]
  },
  {
   "cell_type": "code",
   "execution_count": 0,
   "metadata": {
    "application/vnd.databricks.v1+cell": {
     "cellMetadata": {
      "byteLimit": 2048000,
      "implicitDf": true,
      "rowLimit": 10000
     },
     "inputWidgets": {},
     "nuid": "d01ecfd2-69bd-4a4f-9882-7dbd2ff6521e",
     "showTitle": true,
     "title": "Query silver table"
    }
   },
   "outputs": [],
   "source": [
    "# %sql\n",
    "# SELECT action, count(1) FROM events_silver GROUP BY action"
   ]
  },
  {
   "cell_type": "markdown",
   "metadata": {
    "application/vnd.databricks.v1+cell": {
     "cellMetadata": {},
     "inputWidgets": {},
     "nuid": "0c65a312-f9fd-41c7-822d-522e5d93c9e0",
     "showTitle": false,
     "title": ""
    }
   },
   "source": [
    "#Schema CONCO060"
   ]
  },
  {
   "cell_type": "code",
   "execution_count": 0,
   "metadata": {
    "application/vnd.databricks.v1+cell": {
     "cellMetadata": {
      "byteLimit": 2048000,
      "rowLimit": 10000
     },
     "inputWidgets": {},
     "nuid": "886ddd58-7098-4cb8-b2ef-a51ab6b88c8a",
     "showTitle": false,
     "title": ""
    }
   },
   "outputs": [],
   "source": [
    "# from pyspark.sql.types import *"
   ]
  },
  {
   "cell_type": "code",
   "execution_count": 0,
   "metadata": {
    "application/vnd.databricks.v1+cell": {
     "cellMetadata": {
      "byteLimit": 2048000,
      "rowLimit": 10000
     },
     "inputWidgets": {},
     "nuid": "63994e2b-fe2f-45f0-bd86-6cb1e6e14354",
     "showTitle": false,
     "title": ""
    }
   },
   "outputs": [],
   "source": [
    "# schema = StructType([StructField('after', StructType([StructField('CD_Advogado', StringType(), True), StructField('ID_Advogado', LongType(), True), StructField('ID_E_Mail', StringType(), True), StructField('ID_Endereco', LongType(), True), StructField('ID_Fax', StringType(), True), StructField('ID_Pessoa', LongType(), True), StructField('ID_Telefone', LongType(), True), StructField('NM_Fantasia', StringType(), True)]), True), StructField('before', StringType(), True), StructField('op', StringType(), True), StructField('source', StructType([StructField('change_lsn', StringType(), True), StructField('commit_lsn', StringType(), True), StructField('connector', StringType(), True), StructField('db', StringType(), True), StructField('event_serial_no', StringType(), True), StructField('name', StringType(), True), StructField('schema', StringType(), True), StructField('sequence', StringType(), True), StructField('snapshot', StringType(), True), StructField('table', StringType(), True), StructField('ts_ms', LongType(), True), StructField('version', StringType(), True)]), True), StructField('transaction', StringType(), True), StructField('ts_ms', LongType(), True)])\n"
   ]
  }
 ],
 "metadata": {
  "application/vnd.databricks.v1+notebook": {
   "dashboards": [],
   "environmentMetadata": null,
   "language": "python",
   "notebookMetadata": {
    "mostRecentlyExecutedCommandWithImplicitDF": {
     "commandId": -1,
     "dataframes": [
      "_sqldf"
     ]
    },
    "pythonIndentUnit": 2
   },
   "notebookName": "MI 01b: Data ingestion Confluent",
   "widgets": {
    "Catalogo": {
     "currentValue": "",
     "nuid": "31c66fe7-3def-4203-8b04-420412921a24",
     "typedWidgetInfo": null,
     "widgetInfo": {
      "widgetType": "text",
      "defaultValue": "embracon",
      "label": null,
      "name": "Catalogo",
      "options": {
       "widgetType": "text",
       "autoCreated": null,
       "validationRegex": null
      }
     }
    },
    "CatalogoClone": {
     "currentValue": "",
     "nuid": "38150f0a-184b-4b7b-8d6e-062eeaaeeaa0",
     "typedWidgetInfo": null,
     "widgetInfo": {
      "widgetType": "text",
      "defaultValue": "embracon_des",
      "label": null,
      "name": "CatalogoClone",
      "options": {
       "widgetType": "text",
       "autoCreated": null,
       "validationRegex": null
      }
     }
    },
    "CheckpointLocation": {
     "currentValue": "",
     "nuid": "624cecbe-d395-4198-b4a8-06ce4087b843",
     "typedWidgetInfo": null,
     "widgetInfo": {
      "widgetType": "text",
      "defaultValue": "abfss://prod@databricksembracon.dfs.core.windows.net/dados/checkpoints",
      "label": null,
      "name": "CheckpointLocation",
      "options": {
       "widgetType": "text",
       "autoCreated": null,
       "validationRegex": null
      }
     }
    },
    "Database": {
     "currentValue": "",
     "nuid": "1389f790-0667-4851-a079-98ed7778e6ed",
     "typedWidgetInfo": null,
     "widgetInfo": {
      "widgetType": "text",
      "defaultValue": "newcon_bronze",
      "label": null,
      "name": "Database",
      "options": {
       "widgetType": "text",
       "autoCreated": null,
       "validationRegex": null
      }
     }
    },
    "KafkaPassword": {
     "currentValue": "",
     "nuid": "1d9e7700-9dad-4e92-8b5c-15f72379f3f3",
     "typedWidgetInfo": null,
     "widgetInfo": {
      "widgetType": "text",
      "defaultValue": "0+GefiWF4IF+o8Um6DnKximOv7luHWcVPsc29TtdK5wXhyY3T5seq59PPA4gfMW9",
      "label": null,
      "name": "KafkaPassword",
      "options": {
       "widgetType": "text",
       "autoCreated": null,
       "validationRegex": null
      }
     }
    },
    "KafkaServer": {
     "currentValue": "",
     "nuid": "155292a7-47e4-4d76-8702-37b0779ab972",
     "typedWidgetInfo": null,
     "widgetInfo": {
      "widgetType": "text",
      "defaultValue": "pkc-56d1g.eastus.azure.confluent.cloud:9092",
      "label": null,
      "name": "KafkaServer",
      "options": {
       "widgetType": "text",
       "autoCreated": null,
       "validationRegex": null
      }
     }
    },
    "KafkaUsername": {
     "currentValue": "",
     "nuid": "7b9f7e0f-ea66-4c78-be19-bc91809e5ca8",
     "typedWidgetInfo": null,
     "widgetInfo": {
      "widgetType": "text",
      "defaultValue": "QO3UJ25RUBE5WLG2",
      "label": null,
      "name": "KafkaUsername",
      "options": {
       "widgetType": "text",
       "autoCreated": null,
       "validationRegex": null
      }
     }
    },
    "TableLocation": {
     "currentValue": "",
     "nuid": "d1e23f35-7e8e-4c31-8948-65a4d209726b",
     "typedWidgetInfo": null,
     "widgetInfo": {
      "widgetType": "text",
      "defaultValue": "abfss://prod@databricksembracon.dfs.core.windows.net/dados/bronze",
      "label": null,
      "name": "TableLocation",
      "options": {
       "widgetType": "text",
       "autoCreated": null,
       "validationRegex": null
      }
     }
    },
    "TableName": {
     "currentValue": "",
     "nuid": "4a4c8932-0b82-48ed-8a2c-6f97eadd647a",
     "typedWidgetInfo": null,
     "widgetInfo": {
      "widgetType": "text",
      "defaultValue": "CONCO060",
      "label": null,
      "name": "TableName",
      "options": {
       "widgetType": "text",
       "autoCreated": null,
       "validationRegex": null
      }
     }
    },
    "TempLocation": {
     "currentValue": "",
     "nuid": "a92c6639-1f9c-4db4-8a38-5596b4dba099",
     "typedWidgetInfo": null,
     "widgetInfo": {
      "widgetType": "text",
      "defaultValue": "abfss://prod@databricksembracon.dfs.core.windows.net/dados/tmp",
      "label": null,
      "name": "TempLocation",
      "options": {
       "widgetType": "text",
       "autoCreated": null,
       "validationRegex": null
      }
     }
    }
   }
  }
 },
 "nbformat": 4,
 "nbformat_minor": 0
}
