{
 "cells": [
  {
   "cell_type": "code",
   "execution_count": 0,
   "metadata": {
    "application/vnd.databricks.v1+cell": {
     "cellMetadata": {},
     "inputWidgets": {},
     "nuid": "d38c6037-943c-49ab-a34c-0131d9e34013",
     "showTitle": false,
     "title": ""
    }
   },
   "outputs": [],
   "source": [
    "from pyspark.sql.functions import col, lit, when\n",
    "from graphframes import *\n",
    "# sc.setCheckpointDir(\"dbfs:/FileStore/Didier/Grafos\")\n",
    "# spark.conf.set(\"spark.databricks.io.cache.enabled\", \"true\")\n",
    "import pyspark.sql.types as t\n",
    "from graphframes.lib import AggregateMessages as AM\n",
    "from pyspark.sql.functions import min as sqlmin\n",
    "import pyspark.sql.functions as F\n",
    "from datetime import datetime\n",
    "import math\n",
    "from pyspark.sql import functions as F\n",
    "from graphframes.lib import AggregateMessages as AM         \n",
    "from pyspark import StorageLevel"
   ]
  },
  {
   "cell_type": "code",
   "execution_count": 0,
   "metadata": {
    "application/vnd.databricks.v1+cell": {
     "cellMetadata": {},
     "inputWidgets": {},
     "nuid": "af82d726-d0c9-49a9-90dd-dd0ff8552151",
     "showTitle": false,
     "title": ""
    }
   },
   "outputs": [],
   "source": [
    "\n",
    "edges = spark.sql(\n",
    "\"\"\"\n",
    "SELECT * FROM basesinteligentes.teste_graphframes_edge2\n",
    "where data <= 1275897863\n",
    "\"\"\").withColumnRenamed(\"BASECPFID_ATENDEU_REGRA\", \"dst\").withColumnRenamed(\"BASECPFID_RELACIONADO\", \"src\")\n"
   ]
  },
  {
   "cell_type": "code",
   "execution_count": 0,
   "metadata": {
    "application/vnd.databricks.v1+cell": {
     "cellMetadata": {},
     "inputWidgets": {},
     "nuid": "f763b652-04cf-48cd-bd3b-9aea41df0f59",
     "showTitle": false,
     "title": ""
    }
   },
   "outputs": [],
   "source": [
    "spark.conf.set(\"spark.sql.shuffle.partitions\",64)"
   ]
  },
  {
   "cell_type": "code",
   "execution_count": 0,
   "metadata": {
    "application/vnd.databricks.v1+cell": {
     "cellMetadata": {},
     "inputWidgets": {},
     "nuid": "c136863d-531e-4d9c-b682-f91299792a8f",
     "showTitle": false,
     "title": ""
    }
   },
   "outputs": [],
   "source": [
    "  \n",
    "\n",
    "class Algo(object):\n",
    " \n",
    "  def runWithGraphFrames(self, g, edges, v_total):\n",
    "    \n",
    "    frequencia_checkpoint = 12\n",
    "    i = 0\n",
    "    diff_timestamp = None\n",
    "    comeco_timestamp = datetime.utcnow()\n",
    "    while True:\n",
    "      diff_timestamp = datetime.utcnow()\n",
    "      print(\"SUPERSTEP \", (i+1))\n",
    "      print(datetime.now().strftime(\"%Y-%m-%d %H:%M\"))    \n",
    "      print(\"*************************************\")\n",
    "      triplets = g.triplets.cache()\n",
    "      \n",
    "      \n",
    "      \n",
    "      # define o valor da mensagem\n",
    "      # - retorna o maior valor entre as propriedades do vértice e do relacionamento quando as regras 1 e 2 forem atendidas \n",
    "      # - retorna nulo quando as regras 1 e 2 não forem atendidas\n",
    "                  \n",
    "      msgToDst = F.when(\n",
    "        (AM.src['positivado'] < AM.dst['positivado']) \n",
    "        & (AM.dst['data'] != AM.dst['positivado']),\n",
    "        F.greatest(AM.src['positivado'], AM.dst['data']))\n",
    "      \n",
    "      #print(\"Passando mensagem: \")     \n",
    "      msgsToDst = triplets.select(msgToDst.alias(\"aggMsgs\"), \"dst.id\").cache()\n",
    "      sentMsgsToDst = msgsToDst.filter(\"aggMsgs is not NULL\").cache()\n",
    "      \n",
    "      #print(\"Agrupando: \")      \n",
    "      m = sentMsgsToDst.groupBy(\"id\").agg(F.min(\"aggMsgs\").alias(\"aggMsgs\"))\n",
    "      m = m.cache()\n",
    "      \n",
    "      if i ==0:\n",
    "        print(\"COMEÇO - quantidade de nós que receberam mensagem: \")\n",
    "        print(m.count())    \n",
    "      \n",
    "      \n",
    "      #Atualiza propriedade \"positivado\" de vertices\n",
    "      v_total = (v_total\n",
    "        .join(F.broadcast(m).alias(\"m\"), 'id', how='left_outer')\n",
    "        .withColumn('positivado', F.coalesce(F.col(\"m.aggMsgs\"), F.col('positivado')))\n",
    "        .drop('aggMsgs'))\n",
    "      \n",
    "      #print(v_total.count())\n",
    "      \n",
    "      \n",
    "      #Filtra só os edges de nós que receberam mensagens e que podem passar mensagens\n",
    "      e = (edges.alias(\"e\").join(F.broadcast(m).alias(\"m\"), F.col(\"e.src\")==F.col(\"m.id\"), \"inner\").select(\"e.src\", \"e.dst\"))\n",
    "      #Filtra todos os nós envolvidos\n",
    "      ids = e.alias(\"e\").select(\"e.src\").distinct().union(e.alias(\"e2\").select(\"e2.dst\").distinct()).withColumnRenamed(\"src\",\"id\")\n",
    "      #Filtra vertices \n",
    "      v = (v_total.alias(\"a\").join(F.broadcast(ids), 'id', how='inner').select(\"a.id\", \"a.positivado\", \"a.data\"))\n",
    "      \n",
    "      \n",
    "      e = e.cache()\n",
    "      \n",
    "      \n",
    "      if i % frequencia_checkpoint == 0 and i > 0:    \n",
    "              \n",
    "          print(\"Checando se deve parar\")          \n",
    "          \n",
    "          print(m.count())          \n",
    "          #if m.isEmpty():\n",
    "          #   break\n",
    "\n",
    "          print(\"Checkpoint\")          \n",
    "          \n",
    "          #v_total = v_total.checkpoint()\n",
    "          \n",
    "          print(\"EXPLICANDO: \")\n",
    "          #print(v_total.explain())\n",
    "          out = spark.sparkContext.getCheckpointDir() + \"/{}\".format(i)\n",
    "          \n",
    "          \n",
    "          print(\"Escrita \", out)\n",
    "          v_total.write.mode(\"overwrite\").parquet(out)\n",
    "          print(\"Leitura\")\n",
    "          v_total = sqlContext.read.parquet(out)\n",
    "          \n",
    "          print(\"DELETANDO PATH \", spark.sparkContext.getCheckpointDir() + \"/{}\".format(i-frequencia_checkpoint))\n",
    "          path = spark.sparkContext.getCheckpointDir() + \"/{}\".format(i-frequencia_checkpoint)\n",
    "          dbutils.fs.rm(path, True)    \n",
    "          \n",
    "          \n",
    "          print(\"Chamando GC\")\n",
    "          spark.sparkContext._jvm.System.gc()\n",
    "          \n",
    "          #spark.catalog.clearCache()\n",
    "          \n",
    "          v = v.cache()\n",
    "      #print(\"Unpersist\")\n",
    "      #m.unpersist()\n",
    "      #g.vertices.unpersist()\n",
    "      #g.edges.unpersist()\n",
    "      # cache dos novos vértices usando o workaround para SPARK-1334\n",
    "      \n",
    "      print(\"Criando Dataframe\")\n",
    "      g = GraphFrame(AM.getCachedDataFrame(v), e)\n",
    "      #m.unpersist()\n",
    "      \n",
    "      print(\"Tempo de Superstep: \" + str(datetime.utcnow() - diff_timestamp) + \"s\")\n",
    "      print(\"Tempo desde o começo: \" + str(datetime.utcnow() - comeco_timestamp) + \"s\")\n",
    "      print(\"*************************************\")\n",
    "      #print(spark.sparkContext._jsc.getPersistentRDDs().items())\n",
    "      print(\"\")\n",
    "      print(\"\")\n",
    "      print(\"\")\n",
    "      \n",
    "      i = i + 1\n",
    "      \n",
    "      \n",
    "      \n",
    "    return v_total\n",
    "      \n",
    "    \n",
    "    "
   ]
  },
  {
   "cell_type": "code",
   "execution_count": 0,
   "metadata": {
    "application/vnd.databricks.v1+cell": {
     "cellMetadata": {},
     "inputWidgets": {},
     "nuid": "a4e6ac4d-53f4-41b5-a446-782765ece91b",
     "showTitle": false,
     "title": ""
    }
   },
   "outputs": [],
   "source": [
    "num_parts = 32\n",
    "\n",
    "\n",
    "print(datetime.now().strftime(\"%Y-%m-%d %H:%M\"))\n",
    "\n",
    "\n",
    "vertices = spark.sql(\"\"\"\n",
    " SELECT a.id, \n",
    "  case \n",
    "  when b.positivado < a.positivado then b.positivado \n",
    "  when a.positivado < b.positivado then a.positivado\n",
    "  else coalesce(b.positivado, a.positivado) end as positivado,\n",
    "  a.data\n",
    "  FROM basesinteligentes.teste_graphframes_vertex as a \n",
    "  LEFT JOIN basesinteligentes.pregel_resultado as b on b.id = a.id\n",
    "  where a.data <= {}\n",
    "\"\"\".format(1275897863))\n",
    "\n",
    "  \n",
    "vertices2 = vertices.coalesce(num_parts).cache()\n",
    "edges2 = edges.coalesce(num_parts).cache()\n",
    "  \n",
    "print(\"Cache\")\n",
    "#vertices = vertices.checkpoint()\n",
    "#edges = edges.checkpoint()\n",
    "\n",
    "\n",
    "graph = GraphFrame(vertices2, edges2)\n",
    "print(\"Algoritmo iniciado\")\n",
    "results = Algo().runWithGraphFrames(graph, edges2, vertices2)\n",
    "  "
   ]
  },
  {
   "cell_type": "code",
   "execution_count": 0,
   "metadata": {
    "application/vnd.databricks.v1+cell": {
     "cellMetadata": {},
     "inputWidgets": {},
     "nuid": "e85be4c6-535a-48e3-81b8-eaa950f7cde2",
     "showTitle": false,
     "title": ""
    }
   },
   "outputs": [],
   "source": []
  }
 ],
 "metadata": {
  "application/vnd.databricks.v1+notebook": {
   "dashboards": [
    {
     "elements": [],
     "globalVars": {},
     "guid": "739e3417-b4fb-47f4-b300-86b3321efcb5",
     "layoutOption": {
      "grid": true,
      "stack": true
     },
     "nuid": "479a2e9b-1a88-4cc9-9648-da390bcdc66f",
     "origId": 145370660030168,
     "title": "Untitled",
     "version": "DashboardViewV1",
     "width": 1024
    }
   ],
   "language": "python",
   "notebookMetadata": {
    "mostRecentlyExecutedCommandWithImplicitDF": {
     "commandId": 1217438931759107,
     "dataframes": [
      "_sqldf"
     ]
    },
    "pythonIndentUnit": 2
   },
   "notebookName": "GRAPHFRAMES_EXPERIMENTO_GIT3",
   "widgets": {}
  }
 },
 "nbformat": 4,
 "nbformat_minor": 0
}
